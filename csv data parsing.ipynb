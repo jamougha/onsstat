{
 "metadata": {
  "name": ""
 },
 "nbformat": 3,
 "nbformat_minor": 0,
 "worksheets": [
  {
   "cells": [
    {
     "cell_type": "code",
     "collapsed": false,
     "input": [
      "from __future__ import print_function\n",
      "import itertools as it\n",
      "import psycopg2\n",
      "import csv\n",
      "from collections import defaultdict\n",
      "import json\n",
      "import datetime\n",
      "import time\n",
      "from StringIO import StringIO\n",
      "import codecs"
     ],
     "language": "python",
     "metadata": {},
     "outputs": [],
     "prompt_number": 1
    },
    {
     "cell_type": "code",
     "collapsed": false,
     "input": [
      "csvs = !ls onsdata/*.csv"
     ],
     "language": "python",
     "metadata": {},
     "outputs": [],
     "prompt_number": 2
    },
    {
     "cell_type": "code",
     "collapsed": false,
     "input": [
      "def cdid_details(f):\n",
      "    f = [x for x in f if x]\n",
      "    cdiddata = it.dropwhile(lambda x: not 'Crown' in x[0], f)\n",
      "    cdiddata = list(cdiddata)[1:]\n",
      "    \n",
      "    data = {}\n",
      "    current = None\n",
      "    for line in cdiddata:\n",
      "        cdid = line[0]\n",
      "        if cdid != '':\n",
      "            assert not data.has_key(cdid)\n",
      "            assert len(cdid) == 4\n",
      "            current = defaultdict(lambda: None)\n",
      "            data[cdid] = current\n",
      "            current['name'] = line[1]\n",
      "        else:\n",
      "            name, val = line[1].split('=')\n",
      "            current[name] = val\n",
      "            \n",
      "    return data\n",
      "\n",
      "def datescdids(f):\n",
      "    f = [x for x in f if x]\n",
      "    table = list(it.takewhile(lambda x: 'Crown' not in x[0], f))\n",
      "    dates = [row[0] for row in table][1:]\n",
      "    cdids = table[0][1:]\n",
      "    return dates, cdids\n",
      "\n",
      "def get_csv(f, enc = 'latin1'):\n",
      "    with open(f, 'r') as fl:\n",
      "        s = ''\n",
      "        while True:\n",
      "            data = fl.read(1024*1024)\n",
      "            if not data: break\n",
      "            converted = data.decode(enc).encode('utf-8') \n",
      "            s += converted\n",
      "        io = StringIO(s)\n",
      "        return list(csv.reader(io))"
     ],
     "language": "python",
     "metadata": {},
     "outputs": [],
     "prompt_number": 10
    },
    {
     "cell_type": "code",
     "collapsed": false,
     "input": [
      "cdids, dates = set(), set()\n",
      "\n",
      "def get_data():\n",
      "    for f in csvs:\n",
      "        table = get_csv(f)\n",
      "        d, c = datescdids(table)\n",
      "        dates.update(set(d))\n",
      "        cdids.updte(set(c))    "
     ],
     "language": "python",
     "metadata": {},
     "outputs": [],
     "prompt_number": 6
    },
    {
     "cell_type": "code",
     "collapsed": false,
     "input": [
      "get_data()"
     ],
     "language": "python",
     "metadata": {},
     "outputs": [],
     "prompt_number": 5
    },
    {
     "cell_type": "code",
     "collapsed": false,
     "input": [
      "len(cdids)"
     ],
     "language": "python",
     "metadata": {},
     "outputs": [
      {
       "metadata": {},
       "output_type": "pyout",
       "prompt_number": 6,
       "text": [
        "33252"
       ]
      }
     ],
     "prompt_number": 6
    },
    {
     "cell_type": "code",
     "collapsed": false,
     "input": [
      "cdididx = {c:i for i, c in enumerate(cdids)}\n",
      "datesidx = {d:i for i, d in enumerate(dates)}"
     ],
     "language": "python",
     "metadata": {},
     "outputs": [],
     "prompt_number": 7
    },
    {
     "cell_type": "code",
     "collapsed": false,
     "input": [
      "vals = np.zeros((33252, 1484), dtype=np.float32)"
     ],
     "language": "python",
     "metadata": {},
     "outputs": [],
     "prompt_number": 8
    },
    {
     "cell_type": "code",
     "collapsed": false,
     "input": [
      "def parse_table(f):\n",
      "    attrs = cdid_details(f)            \n",
      "    f = [x for x in f if x]\n",
      "    table = list(it.takewhile(lambda x: 'Crown' not in x[0], f))\n",
      "    \n",
      "    dates = [row[0] for row in table][1:]\n",
      "    data = zip(*[row[1:] for row in table[1:]])\n",
      "    cdids = table[0][1:]\n",
      "    table = {}\n",
      "    \n",
      "    for cdid, column in zip(cdids, data):\n",
      "        table[cdid] = filter(lambda x: x[1], zip(dates, data))\n",
      "        \n",
      "    return table, attrs\n",
      "\n",
      "def _tostr(x):\n",
      "    return \"'\" + str(x) + \"'\"\n",
      "\n",
      "class SQLBuffer(object):\n",
      "    def __enter__(self):\n",
      "        return self\n",
      "    \n",
      "    def __init__(self, cur):\n",
      "        self.cur = cur\n",
      "        self.lines = []\n",
      "        \n",
      "    def add(self, *values):\n",
      "        line = '\\t'.join(map(str, values))\n",
      "        self.lines.append(line)\n",
      "        if len(self.lines) > 50:\n",
      "            self.push()\n",
      "            \n",
      "    def push(self):\n",
      "        output = StringIO('\\n'.join(self.lines))\n",
      "        self.lines = []\n",
      "        self.cur.copy_from(output, 'columndata')\n",
      "        \n",
      "    def __exit__(self, *_):\n",
      "        self.push()\n",
      "        \n",
      "        \n",
      "def insert_data():\n",
      "    conn = psycopg2.connect(\"dbname=onsstat user=holdem password=holdem host=127.0.0.1\")\n",
      "    cur = conn.cursor()\n",
      "    try:\n",
      "        cur.execute(\"\"\"select title from datasets where id not in (select\n",
      "                         dataset_id from columndata)\"\"\")\n",
      "        titles = cur.fetchall()\n",
      "        print(len(titles))\n",
      "        numfiles, numcols, t0 = 0, 0, time.time()\n",
      "        for title in titles:\n",
      "            with SQLBuffer(cur) as buffer:\n",
      "                print(title)\n",
      "                table, attrs = parse_table(get_csv(\"onsdata/%s.csv\" % title))\n",
      "                #title = f[f.find('/')+1:f.rfind('.')]\n",
      "                cur.execute(\"SELECT id FROM datasets WHERE title=%s;\", (title,))\n",
      "                datasetid, = cur.fetchone()\n",
      "                for cdid, column in table.items():\n",
      "                    colstr = json.dumps(column)\n",
      "                    buffer.add(cdid, datasetid, attrs.get(\"base_period\", None), attrs.get(\"index_period\", None), colstr)\n",
      "                \n",
      "                numfiles += 1\n",
      "                numcols += len(table)\n",
      "                dt = time.time() - t0\n",
      "                print(numfiles, numfiles/dt, numcols, numcols/dt, dt)\n",
      "            conn.commit()\n",
      "\n",
      "    finally:\n",
      "        cur.close()\n",
      "        conn.close()\n",
      "                \n",
      "insert_data()\n",
      "                \n",
      "                \n",
      "                    \n",
      "                "
     ],
     "language": "python",
     "metadata": {},
     "outputs": [],
     "prompt_number": "*"
    },
    {
     "cell_type": "code",
     "collapsed": false,
     "input": [
      "\n",
      "\n",
      "attrs = defaultdict(int)\n",
      "for f in csvs:    \n",
      "    table = get_csv(f)\n",
      "    cdets = cdid_details(table)\n",
      "    for key, val in it.chain(*(x.items() for x in cdets.values())): \n",
      "        attrs[key] = max(attrs[key], len(val))\n",
      "        \n",
      "attrs"
     ],
     "language": "python",
     "metadata": {},
     "outputs": [
      {
       "metadata": {},
       "output_type": "pyout",
       "prompt_number": 17,
       "text": [
        "defaultdict(<type 'int'>, {'seasonal_adjustment': 5, 'price': 6, 'index_period': 9, 'name': 80, 'base_period': 6})"
       ]
      }
     ],
     "prompt_number": 17
    },
    {
     "cell_type": "code",
     "collapsed": false,
     "input": [
      "cdidattrs = {}\n",
      "for f in csvs:\n",
      "    d = cdid_details(get_csv(f))\n",
      "    assert d\n",
      "    cdidattrs.update(d)"
     ],
     "language": "python",
     "metadata": {},
     "outputs": [],
     "prompt_number": 11
    },
    {
     "cell_type": "code",
     "collapsed": false,
     "input": [
      "def insert_cdids():\n",
      "    conn = psycopg2.connect(\"dbname=onsstat user=holdem password=holdem host=127.0.0.1\")\n",
      "    cur = conn.cursor()\n",
      "    \n",
      "    for cdid, attrs in cdidattrs.items():\n",
      "        price, seasonal, name = attrs['price'], attrs['seasonal_adjustment'], attrs['name']\n",
      "        cur.execute('INSERT INTO cdids VALUES (%s, %s, %s, %s)', (cdid, price, seasonal, name))\n",
      "    conn.commit()\n",
      "    cur.close()\n",
      "    conn.close()\n",
      "insert_cdids()"
     ],
     "language": "python",
     "metadata": {},
     "outputs": [
      {
       "ename": "IntegrityError",
       "evalue": "duplicate key value violates unique constraint \"cdids_pkey\"\nDETAIL:  Key (cdid)=(YMOS) already exists.\n",
       "output_type": "pyerr",
       "traceback": [
        "\u001b[1;31m---------------------------------------------------------------------------\u001b[0m\n\u001b[1;31mIntegrityError\u001b[0m                            Traceback (most recent call last)",
        "\u001b[1;32m<ipython-input-10-f21f2351de4c>\u001b[0m in \u001b[0;36m<module>\u001b[1;34m()\u001b[0m\n\u001b[0;32m      9\u001b[0m     \u001b[0mcur\u001b[0m\u001b[1;33m.\u001b[0m\u001b[0mclose\u001b[0m\u001b[1;33m(\u001b[0m\u001b[1;33m)\u001b[0m\u001b[1;33m\u001b[0m\u001b[0m\n\u001b[0;32m     10\u001b[0m     \u001b[0mconn\u001b[0m\u001b[1;33m.\u001b[0m\u001b[0mclose\u001b[0m\u001b[1;33m(\u001b[0m\u001b[1;33m)\u001b[0m\u001b[1;33m\u001b[0m\u001b[0m\n\u001b[1;32m---> 11\u001b[1;33m \u001b[0minsert_cdids\u001b[0m\u001b[1;33m(\u001b[0m\u001b[1;33m)\u001b[0m\u001b[1;33m\u001b[0m\u001b[0m\n\u001b[0m",
        "\u001b[1;32m<ipython-input-10-f21f2351de4c>\u001b[0m in \u001b[0;36minsert_cdids\u001b[1;34m()\u001b[0m\n\u001b[0;32m      5\u001b[0m     \u001b[1;32mfor\u001b[0m \u001b[0mcdid\u001b[0m\u001b[1;33m,\u001b[0m \u001b[0mattrs\u001b[0m \u001b[1;32min\u001b[0m \u001b[0mcdidattrs\u001b[0m\u001b[1;33m.\u001b[0m\u001b[0mitems\u001b[0m\u001b[1;33m(\u001b[0m\u001b[1;33m)\u001b[0m\u001b[1;33m:\u001b[0m\u001b[1;33m\u001b[0m\u001b[0m\n\u001b[0;32m      6\u001b[0m         \u001b[0mprice\u001b[0m\u001b[1;33m,\u001b[0m \u001b[0mseasonal\u001b[0m\u001b[1;33m,\u001b[0m \u001b[0mname\u001b[0m \u001b[1;33m=\u001b[0m \u001b[0mattrs\u001b[0m\u001b[1;33m[\u001b[0m\u001b[1;34m'price'\u001b[0m\u001b[1;33m]\u001b[0m\u001b[1;33m,\u001b[0m \u001b[0mattrs\u001b[0m\u001b[1;33m[\u001b[0m\u001b[1;34m'seasonal_adjustment'\u001b[0m\u001b[1;33m]\u001b[0m\u001b[1;33m,\u001b[0m \u001b[0mattrs\u001b[0m\u001b[1;33m[\u001b[0m\u001b[1;34m'name'\u001b[0m\u001b[1;33m]\u001b[0m\u001b[1;33m\u001b[0m\u001b[0m\n\u001b[1;32m----> 7\u001b[1;33m         \u001b[0mcur\u001b[0m\u001b[1;33m.\u001b[0m\u001b[0mexecute\u001b[0m\u001b[1;33m(\u001b[0m\u001b[1;34m'INSERT INTO cdids VALUES (%s, %s, %s, %s)'\u001b[0m\u001b[1;33m,\u001b[0m \u001b[1;33m(\u001b[0m\u001b[0mcdid\u001b[0m\u001b[1;33m,\u001b[0m \u001b[0mprice\u001b[0m\u001b[1;33m,\u001b[0m \u001b[0mseasonal\u001b[0m\u001b[1;33m,\u001b[0m \u001b[0mname\u001b[0m\u001b[1;33m)\u001b[0m\u001b[1;33m)\u001b[0m\u001b[1;33m\u001b[0m\u001b[0m\n\u001b[0m\u001b[0;32m      8\u001b[0m     \u001b[0mconn\u001b[0m\u001b[1;33m.\u001b[0m\u001b[0mcommit\u001b[0m\u001b[1;33m(\u001b[0m\u001b[1;33m)\u001b[0m\u001b[1;33m\u001b[0m\u001b[0m\n\u001b[0;32m      9\u001b[0m     \u001b[0mcur\u001b[0m\u001b[1;33m.\u001b[0m\u001b[0mclose\u001b[0m\u001b[1;33m(\u001b[0m\u001b[1;33m)\u001b[0m\u001b[1;33m\u001b[0m\u001b[0m\n",
        "\u001b[1;31mIntegrityError\u001b[0m: duplicate key value violates unique constraint \"cdids_pkey\"\nDETAIL:  Key (cdid)=(YMOS) already exists.\n"
       ]
      }
     ],
     "prompt_number": 10
    },
    {
     "cell_type": "code",
     "collapsed": false,
     "input": [
      "def update_cdids():\n",
      "    conn = psycopg2.connect(\"dbname=onsstat user=holdem password=holdem host=127.0.0.1\")\n",
      "    cur = conn.cursor()\n",
      "    err = []\n",
      "    try:\n",
      "        for cdid, attrs in cdidattrs.items():\n",
      "            name = attrs['name']\n",
      "            cur.execute('update cdids set name = %s where cdid = %s', (name, cdid))\n",
      "        conn.commit()\n",
      "    except Exception as e:\n",
      "        err.append((name, str(e)))\n",
      "        return\n",
      "    finally:  \n",
      "        print(err or 'OK')\n",
      "        cur.close()\n",
      "        conn.close()\n",
      "\n",
      "\n",
      "update_cdids()"
     ],
     "language": "python",
     "metadata": {},
     "outputs": [
      {
       "output_type": "stream",
       "stream": "stdout",
       "text": [
        "OK\n"
       ]
      }
     ],
     "prompt_number": 12
    },
    {
     "cell_type": "code",
     "collapsed": false,
     "input": [
      "len(cdidattrs)"
     ],
     "language": "python",
     "metadata": {},
     "outputs": [
      {
       "metadata": {},
       "output_type": "pyout",
       "prompt_number": 5,
       "text": [
        "14"
       ]
      }
     ],
     "prompt_number": 5
    },
    {
     "cell_type": "code",
     "collapsed": false,
     "input": [
      "for c, i in cdidattrs.items():\n",
      "    try:\n",
      "        if 'GVA UKJ South East' in i['name']:\n",
      "            print(c)\n",
      "            break\n",
      "    except:\n",
      "        print(c, i)\n",
      "        break"
     ],
     "language": "python",
     "metadata": {},
     "outputs": [
      {
       "output_type": "stream",
       "stream": "stdout",
       "text": [
        "R2RV defaultdict(<function <lambda> at 0x66548c0>, {'seasonal_adjustment': \"'NSA'\", 'price': \"'CURR'\", 'index_period': \"'-'\", 'name': 'GVA UKJ South East Households Raw total \\xa3m', 'base_period': \"'-'\"})\n"
       ]
      }
     ],
     "prompt_number": 16
    },
    {
     "cell_type": "code",
     "collapsed": false,
     "input": [
      "titledate = {}\n",
      "\n",
      "with open('onsdata/onsfilelinks.txt') as f:\n",
      "    txt = '\\n'.join(f.readlines())\n",
      "    datasets = json.loads(txt)\n",
      "    for title, date, l1, l2 in datasets:\n",
      "        if title in titledate and (l1, l2) != titledate[title]:\n",
      "            raise Exception('We have a duplicate: ' + title)\n",
      "        titledate[title] = (l1, l2)\n",
      "\n",
      "months = ['', 'January', 'February', 'March', 'April', 'May', 'June', 'July', 'August', 'September', 'October', 'November', 'December']\n",
      "\n",
      "#for title, date in titledate:\n",
      " #   day, month, year = date.split(' ')\n",
      "  #  month = str(months.index(month))\n",
      "   # titledate.add((title, '-'.join([year, month, day])))\n",
      "        "
     ],
     "language": "python",
     "metadata": {},
     "outputs": [
      {
       "ename": "ValueError",
       "evalue": "too many values to unpack",
       "output_type": "pyerr",
       "traceback": [
        "\u001b[1;31m---------------------------------------------------------------------------\u001b[0m\n\u001b[1;31mValueError\u001b[0m                                Traceback (most recent call last)",
        "\u001b[1;32m<ipython-input-7-19ebdb980116>\u001b[0m in \u001b[0;36m<module>\u001b[1;34m()\u001b[0m\n\u001b[0;32m      4\u001b[0m     \u001b[0mtxt\u001b[0m \u001b[1;33m=\u001b[0m \u001b[1;34m'\\n'\u001b[0m\u001b[1;33m.\u001b[0m\u001b[0mjoin\u001b[0m\u001b[1;33m(\u001b[0m\u001b[0mf\u001b[0m\u001b[1;33m.\u001b[0m\u001b[0mreadlines\u001b[0m\u001b[1;33m(\u001b[0m\u001b[1;33m)\u001b[0m\u001b[1;33m)\u001b[0m\u001b[1;33m\u001b[0m\u001b[0m\n\u001b[0;32m      5\u001b[0m     \u001b[0mdatasets\u001b[0m \u001b[1;33m=\u001b[0m \u001b[0mjson\u001b[0m\u001b[1;33m.\u001b[0m\u001b[0mloads\u001b[0m\u001b[1;33m(\u001b[0m\u001b[0mtxt\u001b[0m\u001b[1;33m)\u001b[0m\u001b[1;33m\u001b[0m\u001b[0m\n\u001b[1;32m----> 6\u001b[1;33m     \u001b[1;32mfor\u001b[0m \u001b[0mtitle\u001b[0m\u001b[1;33m,\u001b[0m \u001b[0mdate\u001b[0m\u001b[1;33m,\u001b[0m \u001b[0ml1\u001b[0m\u001b[1;33m,\u001b[0m \u001b[0ml2\u001b[0m \u001b[1;32min\u001b[0m \u001b[0mdatasets\u001b[0m\u001b[1;33m:\u001b[0m\u001b[1;33m\u001b[0m\u001b[0m\n\u001b[0m\u001b[0;32m      7\u001b[0m         \u001b[1;32mif\u001b[0m \u001b[0mtitle\u001b[0m \u001b[1;32min\u001b[0m \u001b[0mtitledate\u001b[0m \u001b[1;32mand\u001b[0m \u001b[1;33m(\u001b[0m\u001b[0ml1\u001b[0m\u001b[1;33m,\u001b[0m \u001b[0ml2\u001b[0m\u001b[1;33m)\u001b[0m \u001b[1;33m!=\u001b[0m \u001b[0mtitledate\u001b[0m\u001b[1;33m[\u001b[0m\u001b[0mtitle\u001b[0m\u001b[1;33m]\u001b[0m\u001b[1;33m:\u001b[0m\u001b[1;33m\u001b[0m\u001b[0m\n\u001b[0;32m      8\u001b[0m             \u001b[1;32mraise\u001b[0m \u001b[0mException\u001b[0m\u001b[1;33m(\u001b[0m\u001b[1;34m'We have a duplicate: '\u001b[0m \u001b[1;33m+\u001b[0m \u001b[0mtitle\u001b[0m\u001b[1;33m)\u001b[0m\u001b[1;33m\u001b[0m\u001b[0m\n",
        "\u001b[1;31mValueError\u001b[0m: too many values to unpack"
       ]
      }
     ],
     "prompt_number": 7
    },
    {
     "cell_type": "code",
     "collapsed": false,
     "input": [
      "conn = psycopg2.connect(\"dbname=onsstat user=holdem password=holdem host=127.0.0.1\")\n",
      "cur = conn.cursor()\n",
      "try:\n",
      "    for title, date in titledate.items():\n",
      "        cur.execute('INSERT INTO datasets (title, date) VALUES (%s, %s)', (title, date))\n",
      "finally:\n",
      "    conn.commit()\n",
      "    cur.close()\n",
      "    conn.close()"
     ],
     "language": "python",
     "metadata": {},
     "outputs": [],
     "prompt_number": 6
    },
    {
     "cell_type": "code",
     "collapsed": false,
     "input": [],
     "language": "python",
     "metadata": {},
     "outputs": [
      {
       "metadata": {},
       "output_type": "pyout",
       "prompt_number": 16,
       "text": [
        "562"
       ]
      }
     ],
     "prompt_number": 16
    },
    {
     "cell_type": "code",
     "collapsed": false,
     "input": [
      "s = ''\n",
      "with open('onsdata/filelinks2.txt') as f:\n",
      "    s = json.loads(''.join(f.readlines()))\n",
      "len(s)"
     ],
     "language": "python",
     "metadata": {},
     "outputs": [
      {
       "metadata": {},
       "output_type": "pyout",
       "prompt_number": 10,
       "text": [
        "628"
       ]
      }
     ],
     "prompt_number": 10
    },
    {
     "cell_type": "code",
     "collapsed": false,
     "input": [
      "details = {}\n",
      "\n",
      "for f in csvs:\n",
      "    table = get_csv(f)\n",
      "    d = cdid_details(table)\n",
      "    details.update(d)\n",
      "    \n",
      "len(details)"
     ],
     "language": "python",
     "metadata": {},
     "outputs": [
      {
       "ename": "NameError",
       "evalue": "name 'get_csv' is not defined",
       "output_type": "pyerr",
       "traceback": [
        "\u001b[1;31m---------------------------------------------------------------------------\u001b[0m\n\u001b[1;31mNameError\u001b[0m                                 Traceback (most recent call last)",
        "\u001b[1;32m<ipython-input-3-b692949fd926>\u001b[0m in \u001b[0;36m<module>\u001b[1;34m()\u001b[0m\n\u001b[0;32m      2\u001b[0m \u001b[1;33m\u001b[0m\u001b[0m\n\u001b[0;32m      3\u001b[0m \u001b[1;32mfor\u001b[0m \u001b[0mf\u001b[0m \u001b[1;32min\u001b[0m \u001b[0mcsvs\u001b[0m\u001b[1;33m:\u001b[0m\u001b[1;33m\u001b[0m\u001b[0m\n\u001b[1;32m----> 4\u001b[1;33m     \u001b[0mtable\u001b[0m \u001b[1;33m=\u001b[0m \u001b[0mget_csv\u001b[0m\u001b[1;33m(\u001b[0m\u001b[0mf\u001b[0m\u001b[1;33m)\u001b[0m\u001b[1;33m\u001b[0m\u001b[0m\n\u001b[0m\u001b[0;32m      5\u001b[0m     \u001b[0md\u001b[0m \u001b[1;33m=\u001b[0m \u001b[0mcdid_details\u001b[0m\u001b[1;33m(\u001b[0m\u001b[0mtable\u001b[0m\u001b[1;33m)\u001b[0m\u001b[1;33m\u001b[0m\u001b[0m\n\u001b[0;32m      6\u001b[0m     \u001b[0mdetails\u001b[0m\u001b[1;33m.\u001b[0m\u001b[0mupdate\u001b[0m\u001b[1;33m(\u001b[0m\u001b[0md\u001b[0m\u001b[1;33m)\u001b[0m\u001b[1;33m\u001b[0m\u001b[0m\n",
        "\u001b[1;31mNameError\u001b[0m: name 'get_csv' is not defined"
       ]
      }
     ],
     "prompt_number": 3
    },
    {
     "cell_type": "code",
     "collapsed": false,
     "input": [
      "conn = psycopg2.connect(\"dbname=onsstat user=holdem password=holdem host=127.0.0.1\")\n",
      "cur = conn.cursor()\n",
      "try:\n",
      "    for cdid, attrs in details.items():\n",
      "        price, seasonal = attrs[\"price\"], attrs[\"seasonal_adjustment\"]\n",
      "        cur.execute('INSERT INTO cdids VALUES (%s, %s, %s)', (cdid, price, seasonal))\n",
      "finally:\n",
      "    conn.commit()\n",
      "    cur.close()\n",
      "    conn.close()"
     ],
     "language": "python",
     "metadata": {},
     "outputs": [],
     "prompt_number": 8
    },
    {
     "cell_type": "code",
     "collapsed": false,
     "input": [
      "dict((1, 2), (3, 4))"
     ],
     "language": "python",
     "metadata": {},
     "outputs": [
      {
       "ename": "TypeError",
       "evalue": "dict expected at most 1 arguments, got 2",
       "output_type": "pyerr",
       "traceback": [
        "\u001b[1;31m---------------------------------------------------------------------------\u001b[0m\n\u001b[1;31mTypeError\u001b[0m                                 Traceback (most recent call last)",
        "\u001b[1;32m<ipython-input-9-de9c7b111178>\u001b[0m in \u001b[0;36m<module>\u001b[1;34m()\u001b[0m\n\u001b[1;32m----> 1\u001b[1;33m \u001b[0mdict\u001b[0m\u001b[1;33m(\u001b[0m\u001b[1;33m(\u001b[0m\u001b[1;36m1\u001b[0m\u001b[1;33m,\u001b[0m \u001b[1;36m2\u001b[0m\u001b[1;33m)\u001b[0m\u001b[1;33m,\u001b[0m \u001b[1;33m(\u001b[0m\u001b[1;36m3\u001b[0m\u001b[1;33m,\u001b[0m \u001b[1;36m4\u001b[0m\u001b[1;33m)\u001b[0m\u001b[1;33m)\u001b[0m\u001b[1;33m\u001b[0m\u001b[0m\n\u001b[0m",
        "\u001b[1;31mTypeError\u001b[0m: dict expected at most 1 arguments, got 2"
       ]
      }
     ],
     "prompt_number": 9
    },
    {
     "cell_type": "code",
     "collapsed": false,
     "input": [
      "l = []\n",
      "with open(csvs[0], 'r') as fl:\n",
      "    s = ''\n",
      "    while True:\n",
      "        data = fl.read(1024*1024)\n",
      "        if not data: break\n",
      "        converted = data.decode('latin1').encode('utf-8') \n",
      "        s += converted\n",
      "    io = StringIO(s)\n",
      "    l = list(csv.reader(io))\n",
      "    \n",
      "[x for x in l if len(x) > 1 and 'and fuels'.encode('utf-8') in x[1]]\n",
      "    "
     ],
     "language": "python",
     "metadata": {},
     "outputs": [
      {
       "metadata": {},
       "output_type": "pyout",
       "prompt_number": 36,
       "text": [
        "[['MB4S',\n",
        "  'PPI: 6107226000: GSI Groups (excl. CCL) - Purchases of materials and fuels for M'],\n",
        " ['MC48',\n",
        "  'PPI: 6107325400: GSI Groups (excl. CCL) - Purchases of materials and fuels for M'],\n",
        " ['MC4A',\n",
        "  'PPI: 6107330300: GSI Groups (excl. CCL) - Purchases of materials and fuels for M']]"
       ]
      }
     ],
     "prompt_number": 36
    },
    {
     "cell_type": "code",
     "collapsed": false,
     "input": [
      "codecs.encode(l[0], 'utf8')"
     ],
     "language": "python",
     "metadata": {},
     "outputs": [
      {
       "metadata": {},
       "output_type": "pyout",
       "prompt_number": 11,
       "text": [
        "'MB4S,\"PPI: 6107226000: GSI Groups (excl. CCL) - Purchases of materials and fuels for M\"\\n'"
       ]
      }
     ],
     "prompt_number": 11
    },
    {
     "cell_type": "code",
     "collapsed": false,
     "input": [],
     "language": "python",
     "metadata": {},
     "outputs": []
    }
   ],
   "metadata": {}
  }
 ]
}